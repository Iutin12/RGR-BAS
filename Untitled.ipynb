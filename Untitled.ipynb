{
  "metadata": {
    "language_info": {
      "name": ""
    },
    "kernelspec": {
      "name": "",
      "display_name": ""
    }
  },
  "nbformat_minor": 4,
  "nbformat": 4,
  "cells": [
    {
      "cell_type": "markdown",
      "source": "**Таблица греческих букв средствами Markdown**",
      "metadata": {}
    },
    {
      "cell_type": "markdown",
      "source": "|Заглавная|Строчная|Название|\n|:---:|:---:|:---:|\n|Α|$\\alpha$|альфа|\n|Β|$\\beta$|бета|\n|$\\Gamma$|$\\gamma$|гамма|\n|$\\Delta$|$\\delta$|дельта|\n|Ε|$\\epsilon$|эпсилон|\n|Ζ|$\\zeta$|дзета|\n|Η|$\\eta$|эта|\n|$\\Theta$|$\\theta$|тета|\n|Ι|$\\iota$|йота|\n|Κ|$\\kappa$|каппа|\n|$\\Lambda$|$\\lambda$|лямбда|\n|Μ|$\\mu$|мю|\n|Ν|$\\nu$|ню|\n|$\\Xi$|$\\xi$|кси|\n|Ο|ο|омикрон|\n|$\\Pi$|$\\pi$|пи|\n|Ρ|$\\rho$|ро|\n|$\\Sigma$|$\\sigma$|сигма|\n|Τ|$\\tau$|тау|\n|$\\Upsilon$|$\\upsilon$|ипсилон|\n|$\\Phi$|$\\phi$|фи|\n|Χ|$\\chi$|хи|\n|$\\Psi$|$\\psi$|пси|\n|$\\Omega$|$\\omega$|омега|",
      "metadata": {}
    },
    {
      "cell_type": "markdown",
      "source": "**Таблица греческих букв средствами TeX**",
      "metadata": {}
    },
    {
      "cell_type": "markdown",
      "source": "\\begin{array}{ccc}\n\\text{Заглавная}&\\text{Строчная}&\\text{Название}\\\\\n\\text{Α}&\\alpha&\\text{альфа}\\\\\n\\text{Β}&\\beta&\\text{бета}\\\\\n\\Gamma&\\gamma&\\text{гамма}\\\\\n\\Delta&\\delta&\\text{дельта}\\\\\n\\text{Ε}&\\epsilon&\\text{эпсилон}\\\\\n\\text{Ζ}&\\zeta&\\text{дзета}\\\\\n\\text{Η}&\\eta&\\text{эта}\\\\\n\\Theta&\\theta&\\text{тета}\\\\\n\\text{Ι}&\\iota&\\text{йота}\\\\\n\\text{Κ}&\\kappa&\\text{каппа}\\\\\n\\Lambda&\\lambda&\\text{лямбда}\\\\\n\\text{Μ}&\\mu&\\text{мю}\\\\\n\\text{Ν}&\\nu&\\text{ню}\\\\\n\\Xi&\\xi&\\text{кси}\\\\\n\\text{Ο}&\\text{ο}&\\text{омикрон}\\\\\n\\Pi&\\pi&\\text{пи}\\\\\n\\text{Ρ}&\\rho&\\text{ро}\\\\\n\\Sigma&\\sigma&\\text{сигма}\\\\\n\\text{Τ}&\\tau&\\text{тау}\\\\\n\\Upsilon&\\upsilon&\\text{ипсилон}\\\\\n\\Phi&\\phi&\\text{фи}\\\\\n\\text{Χ}&\\chi&\\text{хи}\\\\\n\\Psi&\\psi&\\text{пси}\\\\\n\\Omega&\\omega&\\text{омега}\\\\\n\\end{array}\n",
      "metadata": {}
    },
    {
      "cell_type": "code",
      "source": " Формула в отдельной строке,\n   displaystyle f(x)={\\\\frac {1}{\\\\sigma {\\\\sqrt {2\\\\pi }}}}e^\\,\n    {-{\\\\frac {1}{2}}\\\\left({\\\\frac {x-\\\\mu }{\\\\sigma }}\\\\right)^{2}}}",
      "metadata": {},
      "execution_count": null,
      "outputs": []
    },
    {
      "cell_type": "code",
      "source": "",
      "metadata": {},
      "execution_count": null,
      "outputs": []
    }
  ]
}